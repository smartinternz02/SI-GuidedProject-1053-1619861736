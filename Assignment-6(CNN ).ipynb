{
 "cells": [
  {
   "cell_type": "code",
   "execution_count": 1,
   "metadata": {},
   "outputs": [],
   "source": [
    "from tensorflow.keras.models import Sequential \n",
    "from tensorflow.keras.layers import Dense  \n",
    "from tensorflow.keras.layers import Convolution2D \n",
    "from tensorflow.keras.layers import MaxPooling2D \n",
    "from tensorflow.keras.layers import Flatten "
   ]
  },
  {
   "cell_type": "code",
   "execution_count": 2,
   "metadata": {},
   "outputs": [
    {
     "name": "stderr",
     "output_type": "stream",
     "text": [
      "Using TensorFlow backend.\n"
     ]
    }
   ],
   "source": [
    "from keras.preprocessing.image import ImageDataGenerator\n",
    "train_datagen=ImageDataGenerator(rescale=1./255,shear_range=0.2,zoom_range=0.2,horizontal_flip=True)\n",
    "test_datagen=ImageDataGenerator(rescale=1./255)"
   ]
  },
  {
   "cell_type": "code",
   "execution_count": 3,
   "metadata": {},
   "outputs": [
    {
     "name": "stdout",
     "output_type": "stream",
     "text": [
      "Found 90 images belonging to 5 classes.\n",
      "Found 36 images belonging to 5 classes.\n"
     ]
    }
   ],
   "source": [
    "x_train=train_datagen.flow_from_directory(r\"D:\\python\\Objects\\Train set\",target_size=(64,64),batch_size=32,class_mode=\"categorical\")\n",
    "x_test=test_datagen.flow_from_directory(r\"D:\\python\\Objects\\Test set\",target_size=(64,64),batch_size=32,class_mode=\"categorical\")"
   ]
  },
  {
   "cell_type": "code",
   "execution_count": 4,
   "metadata": {},
   "outputs": [],
   "source": [
    "model=Sequential()"
   ]
  },
  {
   "cell_type": "code",
   "execution_count": 5,
   "metadata": {},
   "outputs": [
    {
     "name": "stdout",
     "output_type": "stream",
     "text": [
      "WARNING:tensorflow:From C:\\Users\\bolla\\Anaconda3\\lib\\site-packages\\tensorflow\\python\\ops\\init_ops.py:1251: calling VarianceScaling.__init__ (from tensorflow.python.ops.init_ops) with dtype is deprecated and will be removed in a future version.\n",
      "Instructions for updating:\n",
      "Call initializer instance with the dtype argument instead of passing it to the constructor\n"
     ]
    }
   ],
   "source": [
    "model.add(Convolution2D(32,(3,3),input_shape=(64,64,3),activation=\"relu\"))"
   ]
  },
  {
   "cell_type": "code",
   "execution_count": 6,
   "metadata": {},
   "outputs": [],
   "source": [
    "model.add(MaxPooling2D(2,2))"
   ]
  },
  {
   "cell_type": "code",
   "execution_count": 7,
   "metadata": {},
   "outputs": [],
   "source": [
    "model.add(Flatten())"
   ]
  },
  {
   "cell_type": "code",
   "execution_count": 8,
   "metadata": {},
   "outputs": [
    {
     "name": "stdout",
     "output_type": "stream",
     "text": [
      "WARNING:tensorflow:From C:\\Users\\bolla\\Anaconda3\\lib\\site-packages\\tensorflow\\python\\keras\\initializers.py:119: calling RandomUniform.__init__ (from tensorflow.python.ops.init_ops) with dtype is deprecated and will be removed in a future version.\n",
      "Instructions for updating:\n",
      "Call initializer instance with the dtype argument instead of passing it to the constructor\n"
     ]
    }
   ],
   "source": [
    "model.add(Dense(units=36,activation=\"relu\",kernel_initializer=\"random_uniform\"))"
   ]
  },
  {
   "cell_type": "code",
   "execution_count": 9,
   "metadata": {},
   "outputs": [],
   "source": [
    "model.add(Dense(units=5,activation=\"softmax\",kernel_initializer=\"random_uniform\")) "
   ]
  },
  {
   "cell_type": "code",
   "execution_count": 10,
   "metadata": {},
   "outputs": [],
   "source": [
    "model.compile(\"sgd\",loss=\"categorical_crossentropy\",metrics=[\"accuracy\"])"
   ]
  },
  {
   "cell_type": "code",
   "execution_count": 14,
   "metadata": {},
   "outputs": [
    {
     "name": "stdout",
     "output_type": "stream",
     "text": [
      "Epoch 1/100\n",
      "3/3 [==============================] - 6s 2s/step - loss: 1.2379 - acc: 0.4222 - val_loss: 1.3704 - val_acc: 0.3750\n",
      "Epoch 2/100\n",
      "3/3 [==============================] - 6s 2s/step - loss: 1.2708 - acc: 0.4444 - val_loss: 1.5705 - val_acc: 0.2500\n",
      "Epoch 3/100\n",
      "3/3 [==============================] - 6s 2s/step - loss: 1.4516 - acc: 0.3333 - val_loss: 1.4351 - val_acc: 0.3125\n",
      "Epoch 4/100\n",
      "3/3 [==============================] - 7s 2s/step - loss: 1.2987 - acc: 0.4444 - val_loss: 1.3822 - val_acc: 0.3125\n",
      "Epoch 5/100\n",
      "3/3 [==============================] - 6s 2s/step - loss: 1.2183 - acc: 0.4778 - val_loss: 1.3542 - val_acc: 0.3438\n",
      "Epoch 6/100\n",
      "3/3 [==============================] - 6s 2s/step - loss: 1.2503 - acc: 0.4333 - val_loss: 1.3734 - val_acc: 0.3125\n",
      "Epoch 7/100\n",
      "3/3 [==============================] - 5s 2s/step - loss: 1.2593 - acc: 0.4444 - val_loss: 1.3542 - val_acc: 0.3438\n",
      "Epoch 8/100\n",
      "3/3 [==============================] - 5s 2s/step - loss: 1.2255 - acc: 0.4889 - val_loss: 1.3631 - val_acc: 0.4688\n",
      "Epoch 9/100\n",
      "3/3 [==============================] - 5s 2s/step - loss: 1.2329 - acc: 0.4556 - val_loss: 1.3470 - val_acc: 0.3125\n",
      "Epoch 10/100\n",
      "3/3 [==============================] - 6s 2s/step - loss: 1.2060 - acc: 0.5333 - val_loss: 1.3556 - val_acc: 0.3125\n",
      "Epoch 11/100\n",
      "3/3 [==============================] - 5s 2s/step - loss: 1.2773 - acc: 0.4444 - val_loss: 1.3485 - val_acc: 0.4688\n",
      "Epoch 12/100\n",
      "3/3 [==============================] - 5s 2s/step - loss: 1.2153 - acc: 0.5444 - val_loss: 1.3457 - val_acc: 0.3125\n",
      "Epoch 13/100\n",
      "3/3 [==============================] - 6s 2s/step - loss: 1.1900 - acc: 0.5222 - val_loss: 1.4025 - val_acc: 0.3438\n",
      "Epoch 14/100\n",
      "3/3 [==============================] - 6s 2s/step - loss: 1.2790 - acc: 0.4222 - val_loss: 1.5180 - val_acc: 0.3125\n",
      "Epoch 15/100\n",
      "3/3 [==============================] - 5s 2s/step - loss: 1.2341 - acc: 0.5000 - val_loss: 1.3531 - val_acc: 0.3125\n",
      "Epoch 16/100\n",
      "3/3 [==============================] - 5s 2s/step - loss: 1.1966 - acc: 0.5000 - val_loss: 1.4017 - val_acc: 0.3750\n",
      "Epoch 17/100\n",
      "3/3 [==============================] - 5s 2s/step - loss: 1.1959 - acc: 0.4889 - val_loss: 1.3455 - val_acc: 0.3438\n",
      "Epoch 18/100\n",
      "3/3 [==============================] - 5s 2s/step - loss: 1.1806 - acc: 0.4889 - val_loss: 1.3801 - val_acc: 0.3438\n",
      "Epoch 19/100\n",
      "3/3 [==============================] - 6s 2s/step - loss: 1.1739 - acc: 0.5111 - val_loss: 1.3790 - val_acc: 0.3750\n",
      "Epoch 20/100\n",
      "3/3 [==============================] - 5s 2s/step - loss: 1.2348 - acc: 0.5000 - val_loss: 1.4980 - val_acc: 0.3125\n",
      "Epoch 21/100\n",
      "3/3 [==============================] - 5s 2s/step - loss: 1.1827 - acc: 0.4667 - val_loss: 1.4190 - val_acc: 0.3125\n",
      "Epoch 22/100\n",
      "3/3 [==============================] - 6s 2s/step - loss: 1.1951 - acc: 0.4444 - val_loss: 1.4041 - val_acc: 0.3438\n",
      "Epoch 23/100\n",
      "3/3 [==============================] - 5s 2s/step - loss: 1.2024 - acc: 0.3667 - val_loss: 1.3351 - val_acc: 0.3750\n",
      "Epoch 24/100\n",
      "3/3 [==============================] - 5s 2s/step - loss: 1.1656 - acc: 0.5333 - val_loss: 1.4354 - val_acc: 0.3125\n",
      "Epoch 25/100\n",
      "3/3 [==============================] - 5s 2s/step - loss: 1.1693 - acc: 0.4889 - val_loss: 1.3374 - val_acc: 0.3438\n",
      "Epoch 26/100\n",
      "3/3 [==============================] - 5s 2s/step - loss: 1.1955 - acc: 0.5000 - val_loss: 1.3622 - val_acc: 0.3438\n",
      "Epoch 27/100\n",
      "3/3 [==============================] - 5s 2s/step - loss: 1.1692 - acc: 0.4444 - val_loss: 1.3611 - val_acc: 0.3750\n",
      "Epoch 28/100\n",
      "3/3 [==============================] - 6s 2s/step - loss: 1.1348 - acc: 0.5222 - val_loss: 1.3568 - val_acc: 0.4688\n",
      "Epoch 29/100\n",
      "3/3 [==============================] - 5s 2s/step - loss: 1.1367 - acc: 0.5222 - val_loss: 1.3334 - val_acc: 0.3750\n",
      "Epoch 30/100\n",
      "3/3 [==============================] - 6s 2s/step - loss: 1.1200 - acc: 0.5444 - val_loss: 1.3765 - val_acc: 0.4375\n",
      "Epoch 31/100\n",
      "3/3 [==============================] - 5s 2s/step - loss: 1.2364 - acc: 0.4444 - val_loss: 1.4005 - val_acc: 0.3125\n",
      "Epoch 32/100\n",
      "3/3 [==============================] - 7s 2s/step - loss: 1.2795 - acc: 0.3667 - val_loss: 1.3756 - val_acc: 0.3750\n",
      "Epoch 33/100\n",
      "3/3 [==============================] - 5s 2s/step - loss: 1.1334 - acc: 0.5333 - val_loss: 1.3679 - val_acc: 0.3750\n",
      "Epoch 34/100\n",
      "3/3 [==============================] - 6s 2s/step - loss: 1.1305 - acc: 0.5333 - val_loss: 1.4398 - val_acc: 0.3125\n",
      "Epoch 35/100\n",
      "3/3 [==============================] - 5s 2s/step - loss: 1.1234 - acc: 0.5222 - val_loss: 1.3541 - val_acc: 0.3438\n",
      "Epoch 36/100\n",
      "3/3 [==============================] - 5s 2s/step - loss: 1.1051 - acc: 0.5444 - val_loss: 1.3370 - val_acc: 0.4062\n",
      "Epoch 37/100\n",
      "3/3 [==============================] - 5s 2s/step - loss: 1.1104 - acc: 0.5778 - val_loss: 1.3274 - val_acc: 0.3438\n",
      "Epoch 38/100\n",
      "3/3 [==============================] - 5s 2s/step - loss: 1.3872 - acc: 0.4333 - val_loss: 2.0260 - val_acc: 0.2500\n",
      "Epoch 39/100\n",
      "3/3 [==============================] - 5s 2s/step - loss: 1.3669 - acc: 0.3778 - val_loss: 1.3538 - val_acc: 0.3750\n",
      "Epoch 40/100\n",
      "3/3 [==============================] - 5s 2s/step - loss: 1.1890 - acc: 0.5222 - val_loss: 1.4167 - val_acc: 0.4375\n",
      "Epoch 41/100\n",
      "3/3 [==============================] - 5s 2s/step - loss: 1.2357 - acc: 0.4778 - val_loss: 1.3491 - val_acc: 0.3750\n",
      "Epoch 42/100\n",
      "3/3 [==============================] - 5s 2s/step - loss: 1.1151 - acc: 0.5333 - val_loss: 1.3523 - val_acc: 0.2812\n",
      "Epoch 43/100\n",
      "3/3 [==============================] - 6s 2s/step - loss: 1.1211 - acc: 0.5556 - val_loss: 1.3444 - val_acc: 0.2812\n",
      "Epoch 44/100\n",
      "3/3 [==============================] - 5s 2s/step - loss: 1.1290 - acc: 0.4889 - val_loss: 1.3318 - val_acc: 0.3125\n",
      "Epoch 45/100\n",
      "3/3 [==============================] - 5s 2s/step - loss: 1.0935 - acc: 0.5667 - val_loss: 1.3344 - val_acc: 0.4062\n",
      "Epoch 46/100\n",
      "3/3 [==============================] - 5s 2s/step - loss: 1.1796 - acc: 0.5222 - val_loss: 1.3255 - val_acc: 0.3438\n",
      "Epoch 47/100\n",
      "3/3 [==============================] - 6s 2s/step - loss: 1.1323 - acc: 0.4778 - val_loss: 1.3440 - val_acc: 0.4062\n",
      "Epoch 48/100\n",
      "3/3 [==============================] - 6s 2s/step - loss: 1.0901 - acc: 0.5111 - val_loss: 1.3482 - val_acc: 0.3438\n",
      "Epoch 49/100\n",
      "3/3 [==============================] - 5s 2s/step - loss: 1.1172 - acc: 0.5667 - val_loss: 1.3238 - val_acc: 0.3438\n",
      "Epoch 50/100\n",
      "3/3 [==============================] - 5s 2s/step - loss: 1.1000 - acc: 0.5111 - val_loss: 1.3260 - val_acc: 0.5312\n",
      "Epoch 51/100\n",
      "3/3 [==============================] - 6s 2s/step - loss: 1.1016 - acc: 0.5222 - val_loss: 1.3107 - val_acc: 0.5000\n",
      "Epoch 52/100\n",
      "3/3 [==============================] - 5s 2s/step - loss: 1.1334 - acc: 0.5333 - val_loss: 1.3804 - val_acc: 0.4062\n",
      "Epoch 53/100\n",
      "3/3 [==============================] - 6s 2s/step - loss: 1.0873 - acc: 0.5111 - val_loss: 1.3446 - val_acc: 0.3438\n",
      "Epoch 54/100\n",
      "3/3 [==============================] - 6s 2s/step - loss: 1.1001 - acc: 0.4778 - val_loss: 1.4249 - val_acc: 0.3438\n",
      "Epoch 55/100\n",
      "3/3 [==============================] - 5s 2s/step - loss: 1.1159 - acc: 0.5000 - val_loss: 1.3267 - val_acc: 0.3750\n",
      "Epoch 56/100\n",
      "3/3 [==============================] - 5s 2s/step - loss: 1.0677 - acc: 0.5556 - val_loss: 1.3490 - val_acc: 0.4062\n",
      "Epoch 57/100\n",
      "3/3 [==============================] - 6s 2s/step - loss: 1.0883 - acc: 0.4889 - val_loss: 1.2934 - val_acc: 0.4688\n",
      "Epoch 58/100\n",
      "3/3 [==============================] - 5s 2s/step - loss: 1.0580 - acc: 0.5556 - val_loss: 1.5083 - val_acc: 0.3438\n",
      "Epoch 59/100\n",
      "3/3 [==============================] - 5s 2s/step - loss: 1.3284 - acc: 0.4333 - val_loss: 1.3103 - val_acc: 0.4062\n",
      "Epoch 60/100\n",
      "3/3 [==============================] - 5s 2s/step - loss: 1.1295 - acc: 0.5000 - val_loss: 1.3641 - val_acc: 0.3438\n",
      "Epoch 61/100\n",
      "3/3 [==============================] - 5s 2s/step - loss: 1.0502 - acc: 0.5333 - val_loss: 1.3511 - val_acc: 0.4375\n",
      "Epoch 62/100\n",
      "3/3 [==============================] - 6s 2s/step - loss: 1.1473 - acc: 0.4889 - val_loss: 1.3126 - val_acc: 0.4062\n",
      "Epoch 63/100\n",
      "3/3 [==============================] - 5s 2s/step - loss: 1.0777 - acc: 0.5000 - val_loss: 1.3056 - val_acc: 0.5000\n",
      "Epoch 64/100\n"
     ]
    },
    {
     "name": "stdout",
     "output_type": "stream",
     "text": [
      "3/3 [==============================] - 5s 2s/step - loss: 1.1747 - acc: 0.4444 - val_loss: 1.3167 - val_acc: 0.4062\n",
      "Epoch 65/100\n",
      "3/3 [==============================] - 5s 2s/step - loss: 1.0805 - acc: 0.5111 - val_loss: 1.3651 - val_acc: 0.4062\n",
      "Epoch 66/100\n",
      "3/3 [==============================] - 6s 2s/step - loss: 1.0565 - acc: 0.5556 - val_loss: 1.3618 - val_acc: 0.3750\n",
      "Epoch 67/100\n",
      "3/3 [==============================] - 5s 2s/step - loss: 1.0986 - acc: 0.5111 - val_loss: 1.3453 - val_acc: 0.3750\n",
      "Epoch 68/100\n",
      "3/3 [==============================] - 5s 2s/step - loss: 1.0689 - acc: 0.5333 - val_loss: 1.3026 - val_acc: 0.4688\n",
      "Epoch 69/100\n",
      "3/3 [==============================] - 5s 2s/step - loss: 1.0451 - acc: 0.5667 - val_loss: 1.3592 - val_acc: 0.4375\n",
      "Epoch 70/100\n",
      "3/3 [==============================] - 5s 2s/step - loss: 1.0968 - acc: 0.5000 - val_loss: 1.3949 - val_acc: 0.4062\n",
      "Epoch 71/100\n",
      "3/3 [==============================] - 5s 2s/step - loss: 1.1182 - acc: 0.5889 - val_loss: 1.3161 - val_acc: 0.3750\n",
      "Epoch 72/100\n",
      "3/3 [==============================] - 5s 2s/step - loss: 1.0798 - acc: 0.5444 - val_loss: 1.3579 - val_acc: 0.3750\n",
      "Epoch 73/100\n",
      "3/3 [==============================] - 5s 2s/step - loss: 1.1833 - acc: 0.4333 - val_loss: 1.3697 - val_acc: 0.4062\n",
      "Epoch 74/100\n",
      "3/3 [==============================] - 6s 2s/step - loss: 1.0625 - acc: 0.5222 - val_loss: 1.3565 - val_acc: 0.4062\n",
      "Epoch 75/100\n",
      "3/3 [==============================] - 5s 2s/step - loss: 1.0440 - acc: 0.5889 - val_loss: 1.3167 - val_acc: 0.3750\n",
      "Epoch 76/100\n",
      "3/3 [==============================] - 5s 2s/step - loss: 1.1120 - acc: 0.5444 - val_loss: 1.3180 - val_acc: 0.4062\n",
      "Epoch 77/100\n",
      "3/3 [==============================] - 5s 2s/step - loss: 1.0088 - acc: 0.6111 - val_loss: 1.4879 - val_acc: 0.3750\n",
      "Epoch 78/100\n",
      "3/3 [==============================] - 5s 2s/step - loss: 1.0414 - acc: 0.5444 - val_loss: 1.3003 - val_acc: 0.4375\n",
      "Epoch 79/100\n",
      "3/3 [==============================] - 5s 2s/step - loss: 1.0181 - acc: 0.5667 - val_loss: 1.3640 - val_acc: 0.3750\n",
      "Epoch 80/100\n",
      "3/3 [==============================] - 5s 2s/step - loss: 1.2636 - acc: 0.5000 - val_loss: 1.7413 - val_acc: 0.3125\n",
      "Epoch 81/100\n",
      "3/3 [==============================] - 6s 2s/step - loss: 1.2005 - acc: 0.5111 - val_loss: 1.3300 - val_acc: 0.3750\n",
      "Epoch 82/100\n",
      "3/3 [==============================] - 5s 2s/step - loss: 1.0163 - acc: 0.5889 - val_loss: 1.3484 - val_acc: 0.3750\n",
      "Epoch 83/100\n",
      "3/3 [==============================] - 5s 2s/step - loss: 1.0139 - acc: 0.5556 - val_loss: 1.3443 - val_acc: 0.4688\n",
      "Epoch 84/100\n",
      "3/3 [==============================] - 5s 2s/step - loss: 1.0750 - acc: 0.5444 - val_loss: 1.3228 - val_acc: 0.3750\n",
      "Epoch 85/100\n",
      "3/3 [==============================] - 6s 2s/step - loss: 1.1157 - acc: 0.4889 - val_loss: 1.3642 - val_acc: 0.4062\n",
      "Epoch 86/100\n",
      "3/3 [==============================] - 5s 2s/step - loss: 1.1114 - acc: 0.5000 - val_loss: 1.3617 - val_acc: 0.4062\n",
      "Epoch 87/100\n",
      "3/3 [==============================] - 5s 2s/step - loss: 1.0144 - acc: 0.5889 - val_loss: 1.2928 - val_acc: 0.4062\n",
      "Epoch 88/100\n",
      "3/3 [==============================] - 5s 2s/step - loss: 1.0001 - acc: 0.5889 - val_loss: 1.3393 - val_acc: 0.4688\n",
      "Epoch 89/100\n",
      "3/3 [==============================] - 6s 2s/step - loss: 1.0338 - acc: 0.5444 - val_loss: 1.4740 - val_acc: 0.3750\n",
      "Epoch 90/100\n",
      "3/3 [==============================] - 5s 2s/step - loss: 0.9733 - acc: 0.6222 - val_loss: 1.3022 - val_acc: 0.3750\n",
      "Epoch 91/100\n",
      "3/3 [==============================] - 5s 2s/step - loss: 0.9621 - acc: 0.6556 - val_loss: 1.3302 - val_acc: 0.4062\n",
      "Epoch 92/100\n",
      "3/3 [==============================] - 5s 2s/step - loss: 0.9892 - acc: 0.5778 - val_loss: 1.3056 - val_acc: 0.4375\n",
      "Epoch 93/100\n",
      "3/3 [==============================] - 5s 2s/step - loss: 0.9597 - acc: 0.6222 - val_loss: 1.2979 - val_acc: 0.4062\n",
      "Epoch 94/100\n",
      "3/3 [==============================] - 5s 2s/step - loss: 0.9566 - acc: 0.6333 - val_loss: 1.2954 - val_acc: 0.4062\n",
      "Epoch 95/100\n",
      "3/3 [==============================] - 5s 2s/step - loss: 1.0625 - acc: 0.4667 - val_loss: 1.4068 - val_acc: 0.3125\n",
      "Epoch 96/100\n",
      "3/3 [==============================] - 5s 2s/step - loss: 1.0531 - acc: 0.5667 - val_loss: 1.5430 - val_acc: 0.3750\n",
      "Epoch 97/100\n",
      "3/3 [==============================] - 4s 1s/step - loss: 0.9932 - acc: 0.5889 - val_loss: 1.3201 - val_acc: 0.4062\n",
      "Epoch 98/100\n",
      "3/3 [==============================] - 5s 2s/step - loss: 0.9611 - acc: 0.6222 - val_loss: 1.4140 - val_acc: 0.3750\n",
      "Epoch 99/100\n",
      "3/3 [==============================] - 5s 2s/step - loss: 0.9409 - acc: 0.6667 - val_loss: 1.4176 - val_acc: 0.4062\n",
      "Epoch 100/100\n",
      "3/3 [==============================] - 5s 2s/step - loss: 0.9630 - acc: 0.6444 - val_loss: 1.2813 - val_acc: 0.5000\n"
     ]
    },
    {
     "data": {
      "text/plain": [
       "<tensorflow.python.keras.callbacks.History at 0x192830aa710>"
      ]
     },
     "execution_count": 14,
     "metadata": {},
     "output_type": "execute_result"
    }
   ],
   "source": [
    "model.fit_generator(x_train,steps_per_epoch=3,epochs=100,validation_data=x_test,validation_steps=1)"
   ]
  },
  {
   "cell_type": "code",
   "execution_count": 15,
   "metadata": {},
   "outputs": [],
   "source": [
    "model.save(\"object.h5\")"
   ]
  },
  {
   "cell_type": "code",
   "execution_count": 16,
   "metadata": {},
   "outputs": [],
   "source": [
    "from tensorflow.keras.models import load_model\n",
    "from tensorflow.keras.preprocessing import image\n",
    "import cv2\n",
    "import numpy as np"
   ]
  },
  {
   "cell_type": "code",
   "execution_count": 17,
   "metadata": {},
   "outputs": [],
   "source": [
    "index=[\"Bluepen\",\"Compass\",\"Dice\",\"paper clips\",\"Rubix\"]"
   ]
  },
  {
   "cell_type": "code",
   "execution_count": 19,
   "metadata": {},
   "outputs": [],
   "source": [
    "model=load_model(\"object.h5\")"
   ]
  },
  {
   "cell_type": "code",
   "execution_count": 27,
   "metadata": {},
   "outputs": [],
   "source": [
    "img=image.load_img(\"compass.jpg\",target_size=(64,64))"
   ]
  },
  {
   "cell_type": "code",
   "execution_count": 28,
   "metadata": {},
   "outputs": [],
   "source": [
    "x=image.img_to_array(img)"
   ]
  },
  {
   "cell_type": "code",
   "execution_count": 29,
   "metadata": {},
   "outputs": [
    {
     "data": {
      "text/plain": [
       "(64, 64, 3)"
      ]
     },
     "execution_count": 29,
     "metadata": {},
     "output_type": "execute_result"
    }
   ],
   "source": [
    "x.shape"
   ]
  },
  {
   "cell_type": "code",
   "execution_count": 30,
   "metadata": {},
   "outputs": [],
   "source": [
    "x=np.expand_dims(x,axis=0)"
   ]
  },
  {
   "cell_type": "code",
   "execution_count": 31,
   "metadata": {},
   "outputs": [
    {
     "data": {
      "text/plain": [
       "(1, 64, 64, 3)"
      ]
     },
     "execution_count": 31,
     "metadata": {},
     "output_type": "execute_result"
    }
   ],
   "source": [
    "x.shape"
   ]
  },
  {
   "cell_type": "code",
   "execution_count": 32,
   "metadata": {},
   "outputs": [],
   "source": [
    "pred=model.predict_classes(x)"
   ]
  },
  {
   "cell_type": "code",
   "execution_count": 33,
   "metadata": {},
   "outputs": [
    {
     "name": "stdout",
     "output_type": "stream",
     "text": [
      "Compass\n"
     ]
    }
   ],
   "source": [
    "print(index[pred[0]])"
   ]
  }
 ],
 "metadata": {
  "kernelspec": {
   "display_name": "Python 3",
   "language": "python",
   "name": "python3"
  },
  "language_info": {
   "codemirror_mode": {
    "name": "ipython",
    "version": 3
   },
   "file_extension": ".py",
   "mimetype": "text/x-python",
   "name": "python",
   "nbconvert_exporter": "python",
   "pygments_lexer": "ipython3",
   "version": "3.7.3"
  }
 },
 "nbformat": 4,
 "nbformat_minor": 2
}
